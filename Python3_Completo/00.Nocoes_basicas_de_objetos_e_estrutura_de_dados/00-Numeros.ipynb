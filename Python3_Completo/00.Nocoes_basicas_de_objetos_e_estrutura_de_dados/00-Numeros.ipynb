{
 "cells": [
  {
   "cell_type": "markdown",
   "metadata": {},
   "source": [
    "# Números e muito mais!\n",
    "\n",
    "Aprenderemos sobre números em Python e como usá-los. \n",
    "    \n",
    "Tópicos: \n",
    "        \n",
    "    1. Tipos de números em Python \n",
    "    2. Aritmética básica \n",
    "    3. Diferenças entre divisão clássica e divisão de piso \n",
    "    4. Atribuição de objetos em Python"
   ]
  },
  {
   "cell_type": "markdown",
   "metadata": {},
   "source": [
    "## Tipos de números\n",
    "\n",
    "Python tem vários \"tipos\" de números (literais numéricos)\n",
    "\n",
    "Inteiros são apenas números inteiros, positivos ou negativos. \n",
    "    \n",
    "    Exemplo: 2 e -2 são exemplos de inteiros.\n",
    "\n",
    "Números flutuante, são notações com casas decimais ou que usam um exponencial (e) para definir o número. \n",
    "    \n",
    "    Exemplo: 2.0 e -2.1 são exemplos de flutuante. \n",
    "    \n",
    "    4E2 (4 vezes 10 elevado a 2) também é um exemplo de número de ponto flutuante em Python.\n",
    "   \n",
    "<table>\n",
    "<tr>\n",
    "    <th>Examplo</th> \n",
    "    <th>Numero \"Tipo\"</th>\n",
    "</tr>\n",
    "\n",
    "<tr>\n",
    "    <td>1, 2, -5, 1000</td>\n",
    "    <td>Inteiro \"Int\"</td> \n",
    "</tr>\n",
    "\n",
    "<tr>\n",
    "    <td>1.2, -0.5, 2e2, 3E2</td> \n",
    "    <td>flutuante \"Float\"</td> \n",
    "</tr>\n",
    " </table>\n"
   ]
  },
  {
   "cell_type": "markdown",
   "metadata": {},
   "source": [
    "## Aritimética Básica"
   ]
  },
  {
   "cell_type": "code",
   "execution_count": 1,
   "metadata": {},
   "outputs": [
    {
     "data": {
      "text/plain": [
       "3"
      ]
     },
     "execution_count": 1,
     "metadata": {},
     "output_type": "execute_result"
    }
   ],
   "source": [
    "# Adição\n",
    "2+1"
   ]
  },
  {
   "cell_type": "code",
   "execution_count": 2,
   "metadata": {},
   "outputs": [
    {
     "data": {
      "text/plain": [
       "1"
      ]
     },
     "execution_count": 2,
     "metadata": {},
     "output_type": "execute_result"
    }
   ],
   "source": [
    "# Subtração\n",
    "2-1"
   ]
  },
  {
   "cell_type": "code",
   "execution_count": 3,
   "metadata": {},
   "outputs": [
    {
     "data": {
      "text/plain": [
       "4"
      ]
     },
     "execution_count": 3,
     "metadata": {},
     "output_type": "execute_result"
    }
   ],
   "source": [
    "# Multiplicação\n",
    "2*2"
   ]
  },
  {
   "cell_type": "code",
   "execution_count": 4,
   "metadata": {},
   "outputs": [
    {
     "data": {
      "text/plain": [
       "1.5"
      ]
     },
     "execution_count": 4,
     "metadata": {},
     "output_type": "execute_result"
    }
   ],
   "source": [
    "# Divisão\n",
    "3/2"
   ]
  },
  {
   "cell_type": "code",
   "execution_count": 6,
   "metadata": {},
   "outputs": [
    {
     "data": {
      "text/plain": [
       "1"
      ]
     },
     "execution_count": 6,
     "metadata": {},
     "output_type": "execute_result"
    }
   ],
   "source": [
    "# Divisão Inteira\n",
    "# O operador // (duas barras) ignora o decimal sem arredondamento e retorna um resultado inteiro.\n",
    "7//4"
   ]
  },
  {
   "cell_type": "code",
   "execution_count": 7,
   "metadata": {},
   "outputs": [
    {
     "data": {
      "text/plain": [
       "3"
      ]
     },
     "execution_count": 7,
     "metadata": {},
     "output_type": "execute_result"
    }
   ],
   "source": [
    "# Modulo\n",
    "# Caso queiramos apenas o restante da divisão.\n",
    "7%4"
   ]
  },
  {
   "cell_type": "code",
   "execution_count": 8,
   "metadata": {},
   "outputs": [
    {
     "data": {
      "text/plain": [
       "8"
      ]
     },
     "execution_count": 8,
     "metadata": {},
     "output_type": "execute_result"
    }
   ],
   "source": [
    "# Exponenciação\n",
    "2**3"
   ]
  },
  {
   "cell_type": "code",
   "execution_count": 8,
   "metadata": {},
   "outputs": [
    {
     "data": {
      "text/plain": [
       "2.0"
      ]
     },
     "execution_count": 8,
     "metadata": {},
     "output_type": "execute_result"
    }
   ],
   "source": [
    "# Também pode fazer raízes dessa maneira\n",
    "4**0.5"
   ]
  },
  {
   "cell_type": "markdown",
   "metadata": {},
   "source": [
    "## Ordem das operações\n",
    "\n",
    "Quando uma expressão contém mais de um operador, a ordem da avaliação depende da ordem das operações. \n",
    "Para operadores matemáticos, o Python segue a convenção matemática. \n",
    "\n",
    "    O acrônimo PEMDAS pode ser útil para lembrar das regras:\n",
    "\n",
    "    Os Parênteses têm a precedência mais alta e podem ser usados para forçar a avaliação de uma expressão.\n",
    "    Exemplo: 2 * (3-1) == 4, e (1+1)**(5-2) == 8. \n",
    "    \n",
    "    Também é possível usar parênteses para facilitar a leitura de uma expressão.\n",
    "\n",
    "    A Exponenciação tem a próxima precedência mais alta, então 1 + 2**3 == 9, e 2 * 3**2 == 18.\n",
    "\n",
    "    A Multiplicação e a Divisão têm precedência mais alta que a Adição e a Subtração. \n",
    "    Exemplo: 2 * 3 - 1 == 5, e 6 + 4 / 2 == 8.\n",
    "    \n",
    "    Os operadores com a mesma precedência são avaliados da esquerda para a direita (exceto na exponenciação). \n"
   ]
  },
  {
   "cell_type": "code",
   "execution_count": 9,
   "metadata": {},
   "outputs": [
    {
     "data": {
      "text/plain": [
       "105"
      ]
     },
     "execution_count": 9,
     "metadata": {},
     "output_type": "execute_result"
    }
   ],
   "source": [
    "# Ordem de operações seguidas em Python\n",
    "2 + 10 * 10 + 3"
   ]
  },
  {
   "cell_type": "code",
   "execution_count": 10,
   "metadata": {},
   "outputs": [
    {
     "data": {
      "text/plain": [
       "156"
      ]
     },
     "execution_count": 10,
     "metadata": {},
     "output_type": "execute_result"
    }
   ],
   "source": [
    "# Parenteses para ajudar na ordem de cálculo\n",
    "(2+10) * (10+3)"
   ]
  },
  {
   "cell_type": "markdown",
   "metadata": {},
   "source": [
    "## Atribuições de Variáveis\n",
    "\n",
    "Vamos criar variáveis e atribuir valores à elas.\n"
   ]
  },
  {
   "cell_type": "code",
   "execution_count": 11,
   "metadata": {},
   "outputs": [],
   "source": [
    "# Criamos um objeto chamado \"a\" e atribuímos o valor 5 à ele.\n",
    "# O sinal \"=\" significa \"Atribuíção\", \n",
    "# O sinal \"==\", significa \"Igual\" \n",
    "a = 5"
   ]
  },
  {
   "cell_type": "code",
   "execution_count": 15,
   "metadata": {},
   "outputs": [
    {
     "data": {
      "text/plain": [
       "5"
      ]
     },
     "execution_count": 15,
     "metadata": {},
     "output_type": "execute_result"
    }
   ],
   "source": [
    "# Agora, ao chamar a variável \"a\", ela me retorna seu valor atribuído.\n",
    "a"
   ]
  },
  {
   "cell_type": "code",
   "execution_count": 16,
   "metadata": {},
   "outputs": [
    {
     "data": {
      "text/plain": [
       "10"
      ]
     },
     "execution_count": 16,
     "metadata": {},
     "output_type": "execute_result"
    }
   ],
   "source": [
    "# Inclusive podemos realizar operações com variáveis.\n",
    "a+a"
   ]
  },
  {
   "cell_type": "code",
   "execution_count": 17,
   "metadata": {},
   "outputs": [],
   "source": [
    "# Reatribuição\n",
    "a = 10"
   ]
  },
  {
   "cell_type": "code",
   "execution_count": 18,
   "metadata": {},
   "outputs": [
    {
     "data": {
      "text/plain": [
       "10"
      ]
     },
     "execution_count": 18,
     "metadata": {},
     "output_type": "execute_result"
    }
   ],
   "source": [
    "# Verificando\n",
    "a"
   ]
  },
  {
   "cell_type": "code",
   "execution_count": 15,
   "metadata": {},
   "outputs": [
    {
     "data": {
      "text/plain": [
       "10"
      ]
     },
     "execution_count": 15,
     "metadata": {},
     "output_type": "execute_result"
    }
   ],
   "source": [
    "# Check\n",
    "a"
   ]
  },
  {
   "cell_type": "code",
   "execution_count": 19,
   "metadata": {},
   "outputs": [],
   "source": [
    "# Usando a variável \"a\" para reatribuir seu valor\n",
    "a = a + a"
   ]
  },
  {
   "cell_type": "code",
   "execution_count": 20,
   "metadata": {},
   "outputs": [
    {
     "data": {
      "text/plain": [
       "20"
      ]
     },
     "execution_count": 20,
     "metadata": {},
     "output_type": "execute_result"
    }
   ],
   "source": [
    "# Verificando\n",
    "a"
   ]
  },
  {
   "cell_type": "markdown",
   "metadata": {},
   "source": [
    "#### Os nomes que usamos ao criar rótulos precisam seguir algumas regras:\n",
    "\n",
    "    1. Os nomes não podem começar com um número.\n",
    "\n",
    "    2. Não pode haver espaços no nome, use _ em vez disso.\n",
    "\n",
    "    3. Não é possível usar nenhum destes símbolos : ' \" , < > / ? | \\ ( ) ! @ # $ % ^ & * ~ - +\n",
    "\n",
    "    4. É considerado uma prática recomendada (PEP8) que os nomes sejam minúsculos.\n",
    "\n",
    "    5. Evite usar os caracteres 'l' (letra minúscula L), 'O' (letra maiúscula Óh),\n",
    "        ou 'I' (letra maiúscula i) como nomes de variáveis de caractere único.\n",
    "        \n",
    "    6. Evite usar palavras que tenham significado especial em Python como \"list\" e \"str\"\n",
    "        Usar nomes de variáveis pode ser uma maneira muito útil de acompanhar diferentes variáveis em Python."
   ]
  },
  {
   "cell_type": "code",
   "execution_count": 21,
   "metadata": {},
   "outputs": [],
   "source": [
    "# Use nomes de objetos para deixar o código intuitivo.\n",
    "renda = 100\n",
    "\n",
    "taxa = 0.1\n",
    "\n",
    "minhas_taxas = renda*taxa"
   ]
  },
  {
   "cell_type": "code",
   "execution_count": 23,
   "metadata": {},
   "outputs": [
    {
     "data": {
      "text/plain": [
       "10.0"
      ]
     },
     "execution_count": 23,
     "metadata": {},
     "output_type": "execute_result"
    }
   ],
   "source": [
    "# Resultado\n",
    "minhas_taxas"
   ]
  }
 ],
 "metadata": {
  "anaconda-cloud": {},
  "kernelspec": {
   "display_name": "Python 3 (ipykernel)",
   "language": "python",
   "name": "python3"
  },
  "language_info": {
   "codemirror_mode": {
    "name": "ipython",
    "version": 3
   },
   "file_extension": ".py",
   "mimetype": "text/x-python",
   "name": "python",
   "nbconvert_exporter": "python",
   "pygments_lexer": "ipython3",
   "version": "3.9.7"
  }
 },
 "nbformat": 4,
 "nbformat_minor": 1
}
